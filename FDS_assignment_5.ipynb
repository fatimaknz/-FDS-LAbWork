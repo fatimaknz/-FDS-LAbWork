{
  "nbformat": 4,
  "nbformat_minor": 0,
  "metadata": {
    "colab": {
      "name": "FDS assignment 5.ipynb",
      "provenance": [],
      "authorship_tag": "ABX9TyOI8b5q+jkHx6uohpBoTbsf",
      "include_colab_link": true
    },
    "kernelspec": {
      "name": "python3",
      "display_name": "Python 3"
    }
  },
  "cells": [
    {
      "cell_type": "markdown",
      "metadata": {
        "id": "view-in-github",
        "colab_type": "text"
      },
      "source": [
        "<a href=\"https://colab.research.google.com/github/fatimaknz/-FDS-LAbWork/blob/main/FDS_assignment_5.ipynb\" target=\"_parent\"><img src=\"https://colab.research.google.com/assets/colab-badge.svg\" alt=\"Open In Colab\"/></a>"
      ]
    },
    {
      "cell_type": "markdown",
      "metadata": {
        "id": "h7dqmLAc8zph"
      },
      "source": [
        "\r\n",
        "Q. 1. Two dice are rolled, find the probability that the sum is:\r\n",
        "equal to 1\r\n",
        "equal to 4\r\n",
        "less than 13"
      ]
    },
    {
      "cell_type": "code",
      "metadata": {
        "colab": {
          "base_uri": "https://localhost:8080/"
        },
        "id": "cAUc5Ymk83F8",
        "outputId": "864ffb1c-cda6-4082-e9e3-cfadefaeedab"
      },
      "source": [
        "print(\"When two fair dice are rolled:\")\r\n",
        "s=36\r\n",
        "print(\"n(s):\",s)\r\n",
        "\r\n",
        "print(\"a:Probability that the sum is equal to 1:\")\r\n",
        "a=0\r\n",
        "print(\"n(a):\",a)\r\n",
        "p1=a/s\r\n",
        "print(\"probabilty is:\",p1)\r\n",
        "\r\n",
        "print(\"a:Probability that the sum is equal to 4:\")\r\n",
        "b=3\r\n",
        "print(\"n(b):\",b)\r\n",
        "p2=b/s\r\n",
        "print(\"probabilty is:\",p2)\r\n",
        "\r\n",
        "print(\"a:Probability that the sum is les than 13:\")\r\n",
        "c=36\r\n",
        "print(\"n(c):\",c)\r\n",
        "p3=c/s\r\n",
        "print(\"probabilty is:\",p3)"
      ],
      "execution_count": null,
      "outputs": [
        {
          "output_type": "stream",
          "text": [
            "When two fair dice are rolled:\n",
            "n(s): 36\n",
            "a:Probability that the sum is equal to 1:\n",
            "n(a): 0\n",
            "probabilty is: 0.0\n",
            "a:Probability that the sum is equal to 4:\n",
            "n(b): 3\n",
            "probabilty is: 0.08333333333333333\n",
            "a:Probability that the sum is les than 13:\n",
            "n(c): 36\n",
            "probabilty is: 1.0\n"
          ],
          "name": "stdout"
        }
      ]
    },
    {
      "cell_type": "markdown",
      "metadata": {
        "id": "b5sz2vOj9Nt0"
      },
      "source": [
        "\r\n",
        "Q. 2. In the game of snakes and ladders, a fair die is thrown. If event E1 represents all the events of getting a natural number less than 4, event E2 consists of all the events of getting an even number and E3 denotes all the events of getting an odd number. List the sets representing the following:\r\n",
        "E1 or E2 or E3\r\n",
        "E1 and E2 and E3\r\n",
        "E1 but not E3"
      ]
    },
    {
      "cell_type": "code",
      "metadata": {
        "colab": {
          "base_uri": "https://localhost:8080/"
        },
        "id": "QC27xBA19TyJ",
        "outputId": "0669056a-c39e-4741-df64-bfca1230d5fd"
      },
      "source": [
        "\r\n",
        "s=[]\r\n",
        "def sample(n):\r\n",
        "    for i in range(1,n+1):\r\n",
        "        s.append(i)\r\n",
        "sample(6)\r\n",
        "print(\"Sample space is:\",s)\r\n",
        "\r\n",
        "print(\" E1 represents all the events of getting a natural number less than 4.\")\r\n",
        "E1=[]\r\n",
        "for i in s:\r\n",
        "    if(i<4):\r\n",
        "        E1.append(i)\r\n",
        "print(\"E1:\",E1)\r\n",
        "\r\n",
        "print(\"E2 consists of all the events of getting an even number.\")\r\n",
        "E2=[]\r\n",
        "for i in s:\r\n",
        "    if(i%2==0):\r\n",
        "        E2.append(i)\r\n",
        "print(\"E2:\",E2)\r\n",
        "\r\n",
        "print(\"E3 consists of all the events of getting an odd number.\")\r\n",
        "E3=[]\r\n",
        "for i in s:\r\n",
        "    if(i%2!=0):\r\n",
        "        E3.append(i)\r\n",
        "print(\"E3:\",E3)\r\n",
        "\r\n",
        "\r\n",
        "a=[]\r\n",
        "for i in s:\r\n",
        "    if(E1 or E2 or E3):\r\n",
        "        a.append(i)\r\n",
        "print(\"E1orE2orE3:\",a)        \r\n",
        "\r\n",
        "\r\n",
        "b=[]\r\n",
        "for i in s:\r\n",
        "    if(E1 in E2 in E3):\r\n",
        "        b.append(i)\r\n",
        "print(\"E1andE2andE3:\",b)        \r\n",
        "\r\n",
        "c=[]\r\n",
        "for i in E1:\r\n",
        "    if(i not in E3):\r\n",
        "        c.append(i)\r\n",
        "print(\"E1 but not E3:\",c)"
      ],
      "execution_count": null,
      "outputs": [
        {
          "output_type": "stream",
          "text": [
            "Sample space is: [1, 2, 3, 4, 5, 6]\n",
            " E1 represents all the events of getting a natural number less than 4.\n",
            "E1: [1, 2, 3]\n",
            "E2 consists of all the events of getting an even number.\n",
            "E2: [2, 4, 6]\n",
            "E3 consists of all the events of getting an odd number.\n",
            "E3: [1, 3, 5]\n",
            "E1orE2orE3: [1, 2, 3, 4, 5, 6]\n",
            "E1andE2andE3: []\n",
            "E1 but not E3: [2]\n"
          ],
          "name": "stdout"
        }
      ]
    },
    {
      "cell_type": "markdown",
      "metadata": {
        "id": "ZUXwCHQ398v5"
      },
      "source": [
        "\r\n",
        "Q.3 How many permutations of the letters of the word ARTICLE have consonants in the first and last positions?"
      ]
    },
    {
      "cell_type": "code",
      "metadata": {
        "colab": {
          "base_uri": "https://localhost:8080/"
        },
        "id": "LarGuI2r-FfY",
        "outputId": "b54367bb-01a2-45b8-e54c-28b209166dac"
      },
      "source": [
        "import math\r\n",
        "\r\n",
        "def permutate(n,r):\r\n",
        "    f1=math.factorial(n)\r\n",
        "    f2=math.factorial(n-r)\r\n",
        "    c=f1/f2\r\n",
        "    return c\r\n",
        "\r\n",
        "string=\"ARTICLE\"\r\n",
        "s=len(string)\r\n",
        "vowels=0\r\n",
        "consonants=0\r\n",
        "string=string.lower()\r\n",
        "\r\n",
        "for i in string:\r\n",
        "    if(i=='a' or i=='e' or i=='i' or i=='o' or i=='u'):\r\n",
        "        vowels=vowels+1\r\n",
        "    else:\r\n",
        "        consonants=consonants+1\r\n",
        "        \r\n",
        "print(\"Total Number of Vowels in string=\",vowels)\r\n",
        "print(\"Total Number of Consonants in string=\",consonants)\r\n",
        "\r\n",
        "start=permutate(consonants, 1)\r\n",
        "consonants-=1\r\n",
        "\r\n",
        "end=permutate(consonants, 1)\r\n",
        "consonants-=1\r\n",
        "\r\n",
        "c=consonants+vowels\r\n",
        "r=c\r\n",
        "a=1\r\n",
        "\r\n",
        "for i in range(r):\r\n",
        "    a=a*permutate(c, 1)\r\n",
        "    c=c-1\r\n",
        "    \r\n",
        "rest1=a*start*end\r\n",
        "print(\"Total Permutations are:\",rest1)"
      ],
      "execution_count": null,
      "outputs": [
        {
          "output_type": "stream",
          "text": [
            "Total Number of Vowels in string= 3\n",
            "Total Number of Consonants in string= 4\n",
            "Total Permutations are: 1440.0\n"
          ],
          "name": "stdout"
        }
      ]
    },
    {
      "cell_type": "markdown",
      "metadata": {
        "id": "J1fOxOnN-Mta"
      },
      "source": [
        "Q. 4. Give five letters {A,B,C,D,E}. Find the following:\r\n",
        "The number of four-letter word sequences.\r\n",
        "The number of three-letter word sequences.\r\n",
        "The number of two-letter word sequences."
      ]
    },
    {
      "cell_type": "code",
      "metadata": {
        "colab": {
          "base_uri": "https://localhost:8080/"
        },
        "id": "kEnPCkvz-TU1",
        "outputId": "c7f66314-cb2a-4e4e-8a7f-c6fd7e6cef3a"
      },
      "source": [
        "\r\n",
        "ss=['A','B','C','D','E']\r\n",
        "print(\"Given, ss:\",ss) \r\n",
        "      \r\n",
        "print(\"The Number of four letter word sequence is:\",permutate(5, 4))\r\n",
        "      \r\n",
        "print(\"The Number of three letter word sequence is:\",permutate(5, 3))\r\n",
        "\r\n",
        "print(\"The Number of two letter word sequence is:\",permutate(5, 2))"
      ],
      "execution_count": null,
      "outputs": [
        {
          "output_type": "stream",
          "text": [
            "Given, ss: ['A', 'B', 'C', 'D', 'E']\n",
            "The Number of four letter word sequence is: 120.0\n",
            "The Number of three letter word sequence is: 60.0\n",
            "The Number of two letter word sequence is: 20.0\n"
          ],
          "name": "stdout"
        }
      ]
    },
    {
      "cell_type": "markdown",
      "metadata": {
        "id": "ot2s56NI-iYo"
      },
      "source": [
        "Q. 5. In how many different ways can 4 people be seated in a straight line if two of them insist on sitting next to each other."
      ]
    },
    {
      "cell_type": "code",
      "metadata": {
        "colab": {
          "base_uri": "https://localhost:8080/"
        },
        "id": "oVGT36nu_DGl",
        "outputId": "d7f75018-fa97-4b14-b008-a098ab30596a"
      },
      "source": [
        "import itertools\r\n",
        "list1=[\"P1\",\"P2\",\"P3\",\"P4\"]\r\n",
        "a=itertools.permutations(list1)\r\n",
        "for i in a:\r\n",
        "    b=i\r\n",
        "    print(i)"
      ],
      "execution_count": null,
      "outputs": [
        {
          "output_type": "stream",
          "text": [
            "('P1', 'P2', 'P3', 'P4')\n",
            "('P1', 'P2', 'P4', 'P3')\n",
            "('P1', 'P3', 'P2', 'P4')\n",
            "('P1', 'P3', 'P4', 'P2')\n",
            "('P1', 'P4', 'P2', 'P3')\n",
            "('P1', 'P4', 'P3', 'P2')\n",
            "('P2', 'P1', 'P3', 'P4')\n",
            "('P2', 'P1', 'P4', 'P3')\n",
            "('P2', 'P3', 'P1', 'P4')\n",
            "('P2', 'P3', 'P4', 'P1')\n",
            "('P2', 'P4', 'P1', 'P3')\n",
            "('P2', 'P4', 'P3', 'P1')\n",
            "('P3', 'P1', 'P2', 'P4')\n",
            "('P3', 'P1', 'P4', 'P2')\n",
            "('P3', 'P2', 'P1', 'P4')\n",
            "('P3', 'P2', 'P4', 'P1')\n",
            "('P3', 'P4', 'P1', 'P2')\n",
            "('P3', 'P4', 'P2', 'P1')\n",
            "('P4', 'P1', 'P2', 'P3')\n",
            "('P4', 'P1', 'P3', 'P2')\n",
            "('P4', 'P2', 'P1', 'P3')\n",
            "('P4', 'P2', 'P3', 'P1')\n",
            "('P4', 'P3', 'P1', 'P2')\n",
            "('P4', 'P3', 'P2', 'P1')\n"
          ],
          "name": "stdout"
        }
      ]
    },
    {
      "cell_type": "markdown",
      "metadata": {
        "id": "l378ZT1r_NnF"
      },
      "source": [
        "\r\n",
        "Q. 6. You have 4 math books and 5 history books to put on a shelf that has 5 slots. In how many ways can the books be shelved if the first three slots are filled with math books and the next two slots are filled with history books?"
      ]
    },
    {
      "cell_type": "code",
      "metadata": {
        "colab": {
          "base_uri": "https://localhost:8080/"
        },
        "id": "BsiJ-cn-_S5w",
        "outputId": "f0a60966-f8f7-4e9d-ceaa-16e07182b1f2"
      },
      "source": [
        "import math\r\n",
        "def permutate(n,r):\r\n",
        "    f1=math.factorial(n)\r\n",
        "    f3=math.factorial(n-r)\r\n",
        "    c=f1/f3\r\n",
        "    return c\r\n",
        "var=permutate(4,3)\r\n",
        "var2=permutate(5,2)\r\n",
        "print(var*var2)"
      ],
      "execution_count": null,
      "outputs": [
        {
          "output_type": "stream",
          "text": [
            "480.0\n"
          ],
          "name": "stdout"
        }
      ]
    },
    {
      "cell_type": "markdown",
      "metadata": {
        "id": "mHxiP84t_yhl"
      },
      "source": [
        "Q. 7. The shopping mall has a straight row of 5 flagpoles at its main entrance plaza. It has 3 identical green flags and 2 identical yellow flags. How many distinct arrangements of flags on the flagpoles are possible?"
      ]
    },
    {
      "cell_type": "code",
      "metadata": {
        "colab": {
          "base_uri": "https://localhost:8080/"
        },
        "id": "ucqZUlA5_4uJ",
        "outputId": "e098df69-46ee-454d-c54e-705c9b3d4a2c"
      },
      "source": [
        "def permutate(n,r,o):\r\n",
        "    f1=math.factorial(n)\r\n",
        "    f2=math.factorial(r)\r\n",
        "    f3=math.factorial(o)\r\n",
        "    c=f1/(f2*f3)\r\n",
        "    return c\r\n",
        "var=permutate(5,3,2)\r\n",
        "print(var)"
      ],
      "execution_count": null,
      "outputs": [
        {
          "output_type": "stream",
          "text": [
            "10.0\n"
          ],
          "name": "stdout"
        }
      ]
    },
    {
      "cell_type": "markdown",
      "metadata": {
        "id": "5YuqiaLZ_-sH"
      },
      "source": [
        "Q.8.A Birthday Problem (Collision of Birth Days)\r\n",
        "\"If there are ‘n’ people in a room, what is the chance that some pair among them have the same birthday?\""
      ]
    },
    {
      "cell_type": "code",
      "metadata": {
        "colab": {
          "base_uri": "https://localhost:8080/"
        },
        "id": "Ur7T8gNwAIXz",
        "outputId": "0722aba4-0db5-4156-88b6-2c4d39cfde1d"
      },
      "source": [
        "from random import randint\r\n",
        " \r\n",
        " \r\n",
        "NUM_PEOPLE = int(input(\"Enter The number of peoples in room:\"))\r\n",
        "NUM_POSSIBLE_BIRTHDAYS = 365\r\n",
        "NUM_TRIALS = 10000\r\n",
        " \r\n",
        " \r\n",
        "def generate_random_birthday():\r\n",
        "    birthday = randint(1, NUM_POSSIBLE_BIRTHDAYS)\r\n",
        "    return birthday\r\n",
        " \r\n",
        " \r\n",
        "def generate_k_birthdays(k):\r\n",
        "    birthdays = [generate_random_birthday() for _ in range(k)]\r\n",
        "    return birthdays\r\n",
        " \r\n",
        " \r\n",
        "def aloc(birthdays):\r\n",
        "    unique_birthdays = set(birthdays)\r\n",
        " \r\n",
        "    num_birthdays = len(birthdays)\r\n",
        "    num_unique_birthdays = len(unique_birthdays)\r\n",
        "    has_coincidence = (num_birthdays != num_unique_birthdays)\r\n",
        " \r\n",
        "    return has_coincidence\r\n",
        " \r\n",
        " \r\n",
        "def estimate_p_aloc():\r\n",
        "    num_aloc = 0\r\n",
        "    for _ in range(NUM_TRIALS):\r\n",
        "        birthdays = generate_k_birthdays(NUM_PEOPLE)\r\n",
        "        has_coincidence = aloc(birthdays)\r\n",
        "        if has_coincidence:\r\n",
        "            num_aloc += 1\r\n",
        " \r\n",
        "    p_aloc = num_aloc / NUM_TRIALS\r\n",
        "    return p_aloc\r\n",
        " \r\n",
        "p_aloc = estimate_p_aloc()\r\n",
        "print(f\"Estimated P(ALOC) after {NUM_TRIALS} trials: {p_aloc}\")"
      ],
      "execution_count": null,
      "outputs": [
        {
          "output_type": "stream",
          "text": [
            "Enter The number of peoples in room:20\n",
            "Estimated P(ALOC) after 10000 trials: 0.414\n"
          ],
          "name": "stdout"
        }
      ]
    },
    {
      "cell_type": "markdown",
      "metadata": {
        "id": "gfI6_kSyAlD1"
      },
      "source": [
        "Q. 9. You have a fair, well-shuffled deck of 52 cards. It consists of four suits. The suits are clubs, diamonds, hearts and spaces. There are 13 cards in each suit consisting of 1, 2, 3, 4, 5, 6, 7, 8, 9, J(Jack), Q(Queen), H(king) of that suit.\r\n",
        "Three cards are picked at random\r\n",
        "Suppose you know that the picked cards are Q of spades, K of hearts and Q of spades. Can you decide if the sampling was with or without replacement?\r\n",
        "Suppose you know that the picked cards are Q of spades, K of hearts and J of spades. Can you decide if the sampling was with or without replacement?\r\n",
        "\r\n",
        "\r\n",
        "Answer:-\r\n",
        "Sampling was with the replacement when we pitch card Q of spaces,K of hearts and Q of spaces because is each siuts we had one queen only heart we are picking 2 green from spades which is not possible in without replacement.\r\n",
        "In this card we have Q of spades K of hearts and J of spades.Here the sampling was done in without replacement because we are picking two different cards from single suits and it can be possible in both the sampling also."
      ]
    },
    {
      "cell_type": "code",
      "metadata": {
        "id": "9Shy65mVBLcc"
      },
      "source": [
        ""
      ],
      "execution_count": null,
      "outputs": []
    },
    {
      "cell_type": "markdown",
      "metadata": {
        "id": "hJh4JAJzA5cI"
      },
      "source": [
        "\r\n",
        "Q. 10. You have a fair, well-shuffled deck of 52 cards. It consists of four suits. The suits are clubs, diamonds, hearts and spaces. There are 13 cards in each suit consisting of 1, 2, 3, 4, 5, 6, 7, 8, 9, J(Jack), Q(Queen), H(king) of that suit. S=spades, H=Hearts, D=Diamonds, C=Clubs, suppose that you sample four cards without replacement. Which of the following outcomes are possible?\r\n",
        "Answer the following questions for sampling with replacement.\r\n",
        "QS, ID, 1C, QD\r\n",
        "KH, 7D, 6D, KH\r\n",
        "QS, 7D, 6D, KS\r\n",
        "\r\n",
        "\r\n",
        "Answer:-\r\n",
        "Sampling with replacement\r\n",
        "n(5)=52 #####\r\n",
        "\r\n",
        "A)Q5,1D,1C,QD\r\n",
        "Q5: Queen for spade :Possible\r\n",
        "1D:Impossible\r\n",
        "1C:1 from clubs:Possible\r\n",
        "QD:Queen from diaminds:Possible\r\n",
        "\r\n",
        "B) KH,7D,6D,KH\r\n",
        "KH:Possible\r\n",
        "7D:Possible\r\n",
        "6D:Possible\r\n",
        "KH:Possible\r\n",
        "\r\n",
        "C) Q5,7D,6D,KS\r\n",
        "QS:Possible\r\n",
        "7D:Possible\r\n",
        "6D:Possible\r\n",
        "KS:Possible"
      ]
    },
    {
      "cell_type": "code",
      "metadata": {
        "id": "Xlbymcf5AqEu"
      },
      "source": [
        ""
      ],
      "execution_count": null,
      "outputs": []
    }
  ]
}