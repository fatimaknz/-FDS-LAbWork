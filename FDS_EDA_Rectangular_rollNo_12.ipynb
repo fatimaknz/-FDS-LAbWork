{
  "nbformat": 4,
  "nbformat_minor": 0,
  "metadata": {
    "colab": {
      "name": "FDS EDA_Rectangular_rollNo_12.ipynb",
      "provenance": [],
      "collapsed_sections": [],
      "include_colab_link": true
    },
    "kernelspec": {
      "name": "python3",
      "display_name": "Python 3"
    }
  },
  "cells": [
    {
      "cell_type": "markdown",
      "metadata": {
        "id": "view-in-github",
        "colab_type": "text"
      },
      "source": [
        "<a href=\"https://colab.research.google.com/github/fatimaknz/-FDS-LAbWork/blob/main/FDS_EDA_Rectangular_rollNo_12.ipynb\" target=\"_parent\"><img src=\"https://colab.research.google.com/assets/colab-badge.svg\" alt=\"Open In Colab\"/></a>"
      ]
    },
    {
      "cell_type": "markdown",
      "metadata": {
        "id": "Whhh8rs_MCrv"
      },
      "source": [
        "#Exploratory Data Analysis-Rectangular Data"
      ]
    },
    {
      "cell_type": "code",
      "metadata": {
        "id": "nnvvqz3MMQI-"
      },
      "source": [
        "installations"
      ],
      "execution_count": null,
      "outputs": []
    },
    {
      "cell_type": "code",
      "metadata": {
        "colab": {
          "base_uri": "https://localhost:8080/"
        },
        "id": "OrqsHKX_5XeI",
        "outputId": "d8ea7490-fd38-4f4d-8a31-d1bf09936ff2"
      },
      "source": [
        "pip install wquantiles\r\n"
      ],
      "execution_count": null,
      "outputs": [
        {
          "output_type": "stream",
          "text": [
            "Collecting wquantiles\n",
            "  Downloading https://files.pythonhosted.org/packages/d7/6c/ced92ab7a7de1ff4f9ab2761d594e00582aad59b02893e50c243bf0ab684/wquantiles-0.5.tar.gz\n",
            "Requirement already satisfied: numpy in /usr/local/lib/python3.7/dist-packages (from wquantiles) (1.19.5)\n",
            "Building wheels for collected packages: wquantiles\n",
            "  Building wheel for wquantiles (setup.py) ... \u001b[?25l\u001b[?25hdone\n",
            "  Created wheel for wquantiles: filename=wquantiles-0.5-cp37-none-any.whl size=2509 sha256=41da60a8aeccafdc34f736a09d66cb31e0f90395840aa214f5ab8149834f1858\n",
            "  Stored in directory: /root/.cache/pip/wheels/24/61/20/f9e1b00d1697d793c1b423cecbdb40fc65dd29a6188e78af41\n",
            "Successfully built wquantiles\n",
            "Installing collected packages: wquantiles\n",
            "Successfully installed wquantiles-0.5\n"
          ],
          "name": "stdout"
        }
      ]
    },
    {
      "cell_type": "markdown",
      "metadata": {
        "id": "7S65e3JgMTnq"
      },
      "source": [
        "Import required Python packages."
      ]
    },
    {
      "cell_type": "code",
      "metadata": {
        "id": "Uuh6QqDbtNMK",
        "colab": {
          "base_uri": "https://localhost:8080/"
        },
        "outputId": "88f1b7db-4262-4f3a-9e41-4afb1cde0b24"
      },
      "source": [
        "%matplotlib inline\r\n",
        "\r\n",
        "from pathlib import Path\r\n",
        "\r\n",
        "import pandas as pd\r\n",
        "import numpy as np\r\n",
        "from scipy.stats import trim_mean\r\n",
        "from statsmodels import robust\r\n",
        "import wquantiles\r\n",
        "import seaborn as sns\r\n",
        "import matplotlib.pylab as plt\r\n"
      ],
      "execution_count": null,
      "outputs": [
        {
          "output_type": "stream",
          "text": [
            "/usr/local/lib/python3.7/dist-packages/statsmodels/tools/_testing.py:19: FutureWarning: pandas.util.testing is deprecated. Use the functions in the public API at pandas.testing instead.\n",
            "  import pandas.util.testing as tm\n"
          ],
          "name": "stderr"
        }
      ]
    },
    {
      "cell_type": "markdown",
      "metadata": {
        "id": "mWxridAcu3p_"
      },
      "source": [
        "mounting"
      ]
    },
    {
      "cell_type": "code",
      "metadata": {
        "colab": {
          "base_uri": "https://localhost:8080/"
        },
        "id": "LCIjhhMPvk3t",
        "outputId": "0914511d-c1da-4607-d89f-b54bb195eacd"
      },
      "source": [
        "#Mounting Google Drive\r\n",
        "%cd ..\r\n",
        "from google.colab import drive\r\n",
        "drive.mount('/content/gdrive')"
      ],
      "execution_count": null,
      "outputs": [
        {
          "output_type": "stream",
          "text": [
            "/\n",
            "Mounted at /content/gdrive\n"
          ],
          "name": "stdout"
        }
      ]
    },
    {
      "cell_type": "code",
      "metadata": {
        "id": "-j2ecJLmu6CY",
        "colab": {
          "base_uri": "https://localhost:8080/",
          "height": 195
        },
        "outputId": "298fdc30-b92b-4a53-9a3f-a9c9414b21a1"
      },
      "source": [
        "Location = \"/content/gdrive/MyDrive/cardio_data.csv\"\r\n",
        "df = pd.read_csv(Location)\r\n",
        "df.head()\r\n"
      ],
      "execution_count": null,
      "outputs": [
        {
          "output_type": "execute_result",
          "data": {
            "text/html": [
              "<div>\n",
              "<style scoped>\n",
              "    .dataframe tbody tr th:only-of-type {\n",
              "        vertical-align: middle;\n",
              "    }\n",
              "\n",
              "    .dataframe tbody tr th {\n",
              "        vertical-align: top;\n",
              "    }\n",
              "\n",
              "    .dataframe thead th {\n",
              "        text-align: right;\n",
              "    }\n",
              "</style>\n",
              "<table border=\"1\" class=\"dataframe\">\n",
              "  <thead>\n",
              "    <tr style=\"text-align: right;\">\n",
              "      <th></th>\n",
              "      <th>Id</th>\n",
              "      <th>age</th>\n",
              "      <th>gender</th>\n",
              "      <th>height</th>\n",
              "      <th>weight</th>\n",
              "      <th>ap_hi</th>\n",
              "      <th>ap_lo</th>\n",
              "      <th>cholesterol</th>\n",
              "      <th>gluc</th>\n",
              "      <th>smoke</th>\n",
              "      <th>alco</th>\n",
              "      <th>active</th>\n",
              "      <th>cardio</th>\n",
              "    </tr>\n",
              "  </thead>\n",
              "  <tbody>\n",
              "    <tr>\n",
              "      <th>0</th>\n",
              "      <td>0</td>\n",
              "      <td>18393</td>\n",
              "      <td>2</td>\n",
              "      <td>168</td>\n",
              "      <td>62.0</td>\n",
              "      <td>110</td>\n",
              "      <td>80</td>\n",
              "      <td>1</td>\n",
              "      <td>1</td>\n",
              "      <td>0</td>\n",
              "      <td>0</td>\n",
              "      <td>1</td>\n",
              "      <td>0</td>\n",
              "    </tr>\n",
              "    <tr>\n",
              "      <th>1</th>\n",
              "      <td>1</td>\n",
              "      <td>20228</td>\n",
              "      <td>1</td>\n",
              "      <td>156</td>\n",
              "      <td>85.0</td>\n",
              "      <td>140</td>\n",
              "      <td>90</td>\n",
              "      <td>3</td>\n",
              "      <td>1</td>\n",
              "      <td>0</td>\n",
              "      <td>0</td>\n",
              "      <td>1</td>\n",
              "      <td>1</td>\n",
              "    </tr>\n",
              "    <tr>\n",
              "      <th>2</th>\n",
              "      <td>2</td>\n",
              "      <td>18857</td>\n",
              "      <td>1</td>\n",
              "      <td>165</td>\n",
              "      <td>64.0</td>\n",
              "      <td>130</td>\n",
              "      <td>70</td>\n",
              "      <td>3</td>\n",
              "      <td>1</td>\n",
              "      <td>0</td>\n",
              "      <td>0</td>\n",
              "      <td>0</td>\n",
              "      <td>1</td>\n",
              "    </tr>\n",
              "    <tr>\n",
              "      <th>3</th>\n",
              "      <td>3</td>\n",
              "      <td>17623</td>\n",
              "      <td>2</td>\n",
              "      <td>169</td>\n",
              "      <td>82.0</td>\n",
              "      <td>150</td>\n",
              "      <td>100</td>\n",
              "      <td>1</td>\n",
              "      <td>1</td>\n",
              "      <td>0</td>\n",
              "      <td>0</td>\n",
              "      <td>1</td>\n",
              "      <td>1</td>\n",
              "    </tr>\n",
              "    <tr>\n",
              "      <th>4</th>\n",
              "      <td>4</td>\n",
              "      <td>17474</td>\n",
              "      <td>1</td>\n",
              "      <td>156</td>\n",
              "      <td>56.0</td>\n",
              "      <td>100</td>\n",
              "      <td>60</td>\n",
              "      <td>1</td>\n",
              "      <td>1</td>\n",
              "      <td>0</td>\n",
              "      <td>0</td>\n",
              "      <td>0</td>\n",
              "      <td>0</td>\n",
              "    </tr>\n",
              "  </tbody>\n",
              "</table>\n",
              "</div>"
            ],
            "text/plain": [
              "   Id    age  gender  height  weight  ...  gluc  smoke  alco  active  cardio\n",
              "0   0  18393       2     168    62.0  ...     1      0     0       1       0\n",
              "1   1  20228       1     156    85.0  ...     1      0     0       1       1\n",
              "2   2  18857       1     165    64.0  ...     1      0     0       0       1\n",
              "3   3  17623       2     169    82.0  ...     1      0     0       1       1\n",
              "4   4  17474       1     156    56.0  ...     1      0     0       0       0\n",
              "\n",
              "[5 rows x 13 columns]"
            ]
          },
          "metadata": {
            "tags": []
          },
          "execution_count": 4
        }
      ]
    },
    {
      "cell_type": "markdown",
      "metadata": {
        "id": "M3OkjyXcHgTw"
      },
      "source": [
        "#Estimates of Height and weight"
      ]
    },
    {
      "cell_type": "markdown",
      "metadata": {
        "id": "4W7w59l0MdNg"
      },
      "source": [
        "Compute the mean, trimmed mean, and median for Height & Wieght. For mean and median we can use the pandas methods of the data frame. The trimmed mean requires the trim_mean function in scipy.stats."
      ]
    },
    {
      "cell_type": "code",
      "metadata": {
        "id": "EF2TQEDkwMd0",
        "colab": {
          "base_uri": "https://localhost:8080/"
        },
        "outputId": "78bda56e-a5d1-46e4-99cf-b8783f458b87"
      },
      "source": [
        "print(df['height'].mean())"
      ],
      "execution_count": null,
      "outputs": [
        {
          "output_type": "stream",
          "text": [
            "164.0126939351199\n"
          ],
          "name": "stdout"
        }
      ]
    },
    {
      "cell_type": "code",
      "metadata": {
        "id": "dg-joUYmwuT2",
        "colab": {
          "base_uri": "https://localhost:8080/"
        },
        "outputId": "58386ddd-9bad-44ea-dfc1-4c2cad7a47c2"
      },
      "source": [
        "print(trim_mean(df['height'], 0.1))"
      ],
      "execution_count": null,
      "outputs": [
        {
          "output_type": "stream",
          "text": [
            "163.95957820738138\n"
          ],
          "name": "stdout"
        }
      ]
    },
    {
      "cell_type": "code",
      "metadata": {
        "id": "S3xfZXkcw2pI",
        "colab": {
          "base_uri": "https://localhost:8080/"
        },
        "outputId": "c2730abd-d8e8-449e-8117-d6a2b82084d0"
      },
      "source": [
        "print(df['height'].median())"
      ],
      "execution_count": null,
      "outputs": [
        {
          "output_type": "stream",
          "text": [
            "164.0\n"
          ],
          "name": "stdout"
        }
      ]
    },
    {
      "cell_type": "code",
      "metadata": {
        "id": "NKSwAY0xw-rE",
        "colab": {
          "base_uri": "https://localhost:8080/"
        },
        "outputId": "1c495a6a-2f90-44f9-a312-18e90d86446e"
      },
      "source": [
        "print(df['weight'].mean())"
      ],
      "execution_count": null,
      "outputs": [
        {
          "output_type": "stream",
          "text": [
            "74.42919605077574\n"
          ],
          "name": "stdout"
        }
      ]
    },
    {
      "cell_type": "code",
      "metadata": {
        "id": "pqCuWgVexV8l",
        "colab": {
          "base_uri": "https://localhost:8080/"
        },
        "outputId": "8bb727e0-c5b8-4e8b-e68a-bb71fd0c04dd"
      },
      "source": [
        "print(np.average(df['weight'], weights=df['height']))"
      ],
      "execution_count": null,
      "outputs": [
        {
          "output_type": "stream",
          "text": [
            "74.71242378638689\n"
          ],
          "name": "stdout"
        }
      ]
    },
    {
      "cell_type": "markdown",
      "metadata": {
        "id": "oVElNbL8MxLi"
      },
      "source": [
        "Weighted mean is available with numpy. For weighted median, we can use the specialised package wquantiles"
      ]
    },
    {
      "cell_type": "code",
      "metadata": {
        "id": "UjqxjonUxtQ6",
        "colab": {
          "base_uri": "https://localhost:8080/"
        },
        "outputId": "a71ac72a-f798-4d52-b842-ba038d4603dc"
      },
      "source": [
        "print(wquantiles.median(df['weight'], weights=df['height']))"
      ],
      "execution_count": null,
      "outputs": [
        {
          "output_type": "stream",
          "text": [
            "72.0\n"
          ],
          "name": "stdout"
        }
      ]
    },
    {
      "cell_type": "markdown",
      "metadata": {
        "id": "ebFTvuNrH_7M"
      },
      "source": [
        "#Estimates of Variability"
      ]
    },
    {
      "cell_type": "markdown",
      "metadata": {
        "id": "0C9z8wqUM0ON"
      },
      "source": [
        "Standard deviation"
      ]
    },
    {
      "cell_type": "code",
      "metadata": {
        "id": "modiHS0HykUv",
        "colab": {
          "base_uri": "https://localhost:8080/"
        },
        "outputId": "67417544-de4d-4773-f130-775df5c07d65"
      },
      "source": [
        "print(df['height'].std())"
      ],
      "execution_count": null,
      "outputs": [
        {
          "output_type": "stream",
          "text": [
            "8.633210556457215\n"
          ],
          "name": "stdout"
        }
      ]
    },
    {
      "cell_type": "markdown",
      "metadata": {
        "id": "ZLt0bymAM4fZ"
      },
      "source": [
        "\r\n",
        "Interquartile range is calculated as the difference of the 75% and 25% quantile."
      ]
    },
    {
      "cell_type": "code",
      "metadata": {
        "id": "DjD7NhAFy94o",
        "colab": {
          "base_uri": "https://localhost:8080/"
        },
        "outputId": "1c21b6bc-60c6-4966-fc26-c587b71ddb9b"
      },
      "source": [
        "print(df['height'].quantile(0.75) - df['height'].quantile(0.25))"
      ],
      "execution_count": null,
      "outputs": [
        {
          "output_type": "stream",
          "text": [
            "12.0\n"
          ],
          "name": "stdout"
        }
      ]
    },
    {
      "cell_type": "markdown",
      "metadata": {
        "id": "LWc7oAMtM73F"
      },
      "source": [
        "Median absolute deviation from the median can be calculated with a method in statsmodels"
      ]
    },
    {
      "cell_type": "code",
      "metadata": {
        "id": "5JyWFvo6zV9A",
        "colab": {
          "base_uri": "https://localhost:8080/"
        },
        "outputId": "5f98832f-7624-4875-8e7b-ae445bced374"
      },
      "source": [
        "print(robust.scale.mad(df['height']))\r\n",
        "print(abs(df['height'] - df['height'].median()).median() / 0.6744897501960817)"
      ],
      "execution_count": null,
      "outputs": [
        {
          "output_type": "stream",
          "text": [
            "8.895613311033612\n",
            "8.895613311033612\n"
          ],
          "name": "stdout"
        }
      ]
    },
    {
      "cell_type": "markdown",
      "metadata": {
        "id": "kYsM05rXIqgf"
      },
      "source": [
        "#Percentiles and Boxplots\r\n",
        "Pandas has the quantile method for data frames."
      ]
    },
    {
      "cell_type": "code",
      "metadata": {
        "id": "IFFDmrPNzk5u",
        "colab": {
          "base_uri": "https://localhost:8080/"
        },
        "outputId": "f5d978cf-423c-43e3-8539-5c239d4add3d"
      },
      "source": [
        "print(df['weight'].quantile([0.05, 0.25, 0.5, 0.75, 0.95]))"
      ],
      "execution_count": null,
      "outputs": [
        {
          "output_type": "stream",
          "text": [
            "0.05     54.0\n",
            "0.25     64.0\n",
            "0.50     72.0\n",
            "0.75     84.0\n",
            "0.95    100.0\n",
            "Name: weight, dtype: float64\n"
          ],
          "name": "stdout"
        }
      ]
    },
    {
      "cell_type": "code",
      "metadata": {
        "id": "fuYtQKj-z4KH",
        "colab": {
          "base_uri": "https://localhost:8080/"
        },
        "outputId": "1cdbac14-6235-4551-dd79-f63a90cd447e"
      },
      "source": [
        "percentages = [0.05, 0.25, 0.5, 0.75, 0.95]\r\n",
        "df1 = pd.DataFrame(df['weight'].quantile(percentages))\r\n",
        "df1.index = [f'{p * 100}%' for p in percentages]\r\n",
        "print(df.transpose())"
      ],
      "execution_count": null,
      "outputs": [
        {
          "output_type": "stream",
          "text": [
            "                 0        1        2    ...      706      707      708\n",
            "Id               0.0      1.0      2.0  ...    997.0    999.0   1000.0\n",
            "age          18393.0  20228.0  18857.0  ...  22547.0  21250.0  22446.0\n",
            "gender           2.0      1.0      1.0  ...      1.0      1.0      1.0\n",
            "height         168.0    156.0    165.0  ...    161.0    157.0    158.0\n",
            "weight          62.0     85.0     64.0  ...     93.0     68.0     65.0\n",
            "ap_hi          110.0    140.0    130.0  ...    140.0    110.0    140.0\n",
            "ap_lo           80.0     90.0     70.0  ...     90.0     80.0     90.0\n",
            "cholesterol      1.0      3.0      3.0  ...      2.0      1.0      3.0\n",
            "gluc             1.0      1.0      1.0  ...      1.0      1.0      1.0\n",
            "smoke            0.0      0.0      0.0  ...      0.0      0.0      0.0\n",
            "alco             0.0      0.0      0.0  ...      0.0      0.0      0.0\n",
            "active           1.0      1.0      0.0  ...      1.0      1.0      1.0\n",
            "cardio           0.0      1.0      1.0  ...      1.0      0.0      1.0\n",
            "\n",
            "[13 rows x 709 columns]\n"
          ],
          "name": "stdout"
        }
      ]
    },
    {
      "cell_type": "markdown",
      "metadata": {
        "id": "xx26tmIJNDla"
      },
      "source": [
        "Pandas provides a number of basic exploratory plots; one of them are boxplots"
      ]
    },
    {
      "cell_type": "code",
      "metadata": {
        "id": "Kr-3F5jL0fQu",
        "colab": {
          "base_uri": "https://localhost:8080/",
          "height": 297
        },
        "outputId": "8ce5d92a-5658-4f35-ef46-7bbb2606e117"
      },
      "source": [
        "ax = (df['height']/1_000_000).plot.box(figsize=(3, 4))\r\n",
        "ax.set_ylabel('Height')\r\n",
        "\r\n",
        "plt.tight_layout()\r\n",
        "plt.show()"
      ],
      "execution_count": null,
      "outputs": [
        {
          "output_type": "display_data",
          "data": {
            "image/png": "[encoded data removed]",
            "text/plain": [
              "<Figure size 216x288 with 1 Axes>"
            ]
          },
          "metadata": {
            "tags": [],
            "needs_background": "light"
          }
        }
      ]
    },
    {
      "cell_type": "markdown",
      "metadata": {
        "id": "Blzev9kmI1W0"
      },
      "source": [
        "#Frequency Table and Histograms\r\n",
        "The cut method for pandas data splits the dataset into bins. There are a number of arguments for the method. The following code creates equal sized bins. The method value_counts returns a frequency table."
      ]
    },
    {
      "cell_type": "code",
      "metadata": {
        "id": "fcrq3A5Q1b6e",
        "colab": {
          "base_uri": "https://localhost:8080/"
        },
        "outputId": "af9f85b4-2af0-47cd-bb67-b81872982469"
      },
      "source": [
        "binnedHeight = pd.cut(df['height'], 10)\r\n",
        "print(binnedHeight.value_counts())"
      ],
      "execution_count": null,
      "outputs": [
        {
          "output_type": "stream",
          "text": [
            "(154.4, 165.6]    343\n",
            "(165.6, 176.8]    245\n",
            "(143.2, 154.4]     75\n",
            "(176.8, 188.0]     44\n",
            "(132.0, 143.2]      1\n",
            "(75.888, 87.2]      1\n",
            "(120.8, 132.0]      0\n",
            "(109.6, 120.8]      0\n",
            "(98.4, 109.6]       0\n",
            "(87.2, 98.4]        0\n",
            "Name: height, dtype: int64\n"
          ],
          "name": "stdout"
        }
      ]
    },
    {
      "cell_type": "code",
      "metadata": {
        "id": "2Wre66RH9hcI",
        "colab": {
          "base_uri": "https://localhost:8080/",
          "height": 297
        },
        "outputId": "5e58378e-374c-49f3-e5cd-e8e63b2d8dc8"
      },
      "source": [
        "ax = (df['height'] / 1_000_000).plot.hist(figsize=(4, 4))\r\n",
        "ax.set_xlabel('Height')\r\n",
        "\r\n",
        "plt.tight_layout()\r\n",
        "plt.show()"
      ],
      "execution_count": null,
      "outputs": [
        {
          "output_type": "display_data",
          "data": {
            "image/png": "[encoded data removed]",
            "text/plain": [
              "<Figure size 288x288 with 1 Axes>"
            ]
          },
          "metadata": {
            "tags": [],
            "needs_background": "light"
          }
        }
      ]
    },
    {
      "cell_type": "markdown",
      "metadata": {
        "id": "HXO8DTLSJF8m"
      },
      "source": [
        "#Density Estimates\r\n",
        "Density is an alternative to histograms that can provide more insight into the distribution of the data points. Use the argument bw_method to control the smoothness of the density curve."
      ]
    },
    {
      "cell_type": "code",
      "metadata": {
        "id": "gwWLfMua6CqZ",
        "colab": {
          "base_uri": "https://localhost:8080/",
          "height": 297
        },
        "outputId": "ba67f17c-9a97-4b60-a0ce-7504a2fb29bb"
      },
      "source": [
        "ax = df['ap_hi'].plot.hist(density=True, xlim=[0, 15], \r\n",
        "                                    bins=range(1,15), figsize=(4, 4))\r\n",
        "df['ap_hi'].plot.density(ax=ax)\r\n",
        "ax.set_xlabel('ap_hi')\r\n",
        "\r\n",
        "plt.tight_layout()\r\n",
        "plt.show()"
      ],
      "execution_count": null,
      "outputs": [
        {
          "output_type": "display_data",
          "data": {
            "image/png": "[encoded data removed]",
            "text/plain": [
              "<Figure size 288x288 with 1 Axes>"
            ]
          },
          "metadata": {
            "tags": [],
            "needs_background": "light"
          }
        }
      ]
    },
    {
      "cell_type": "code",
      "metadata": {
        "id": "Cgn0Jbfp-1BU",
        "colab": {
          "base_uri": "https://localhost:8080/",
          "height": 195
        },
        "outputId": "68d316dd-cf44-4443-c4d4-89d2a381245c"
      },
      "source": [
        "dfn1 = df[['height','weight']]\r\n",
        "dfn1.head()"
      ],
      "execution_count": null,
      "outputs": [
        {
          "output_type": "execute_result",
          "data": {
            "text/html": [
              "<div>\n",
              "<style scoped>\n",
              "    .dataframe tbody tr th:only-of-type {\n",
              "        vertical-align: middle;\n",
              "    }\n",
              "\n",
              "    .dataframe tbody tr th {\n",
              "        vertical-align: top;\n",
              "    }\n",
              "\n",
              "    .dataframe thead th {\n",
              "        text-align: right;\n",
              "    }\n",
              "</style>\n",
              "<table border=\"1\" class=\"dataframe\">\n",
              "  <thead>\n",
              "    <tr style=\"text-align: right;\">\n",
              "      <th></th>\n",
              "      <th>height</th>\n",
              "      <th>weight</th>\n",
              "    </tr>\n",
              "  </thead>\n",
              "  <tbody>\n",
              "    <tr>\n",
              "      <th>0</th>\n",
              "      <td>168</td>\n",
              "      <td>62.0</td>\n",
              "    </tr>\n",
              "    <tr>\n",
              "      <th>1</th>\n",
              "      <td>156</td>\n",
              "      <td>85.0</td>\n",
              "    </tr>\n",
              "    <tr>\n",
              "      <th>2</th>\n",
              "      <td>165</td>\n",
              "      <td>64.0</td>\n",
              "    </tr>\n",
              "    <tr>\n",
              "      <th>3</th>\n",
              "      <td>169</td>\n",
              "      <td>82.0</td>\n",
              "    </tr>\n",
              "    <tr>\n",
              "      <th>4</th>\n",
              "      <td>156</td>\n",
              "      <td>56.0</td>\n",
              "    </tr>\n",
              "  </tbody>\n",
              "</table>\n",
              "</div>"
            ],
            "text/plain": [
              "   height  weight\n",
              "0     168    62.0\n",
              "1     156    85.0\n",
              "2     165    64.0\n",
              "3     169    82.0\n",
              "4     156    56.0"
            ]
          },
          "metadata": {
            "tags": []
          },
          "execution_count": 21
        }
      ]
    },
    {
      "cell_type": "code",
      "metadata": {
        "id": "9bSwjF_gFUhd",
        "colab": {
          "base_uri": "https://localhost:8080/",
          "height": 195
        },
        "outputId": "0a4564ed-f08a-473d-eb45-61b983c8c164"
      },
      "source": [
        "dfn2 = df[['ap_hi','ap_lo']]\r\n",
        "dfn2.head()"
      ],
      "execution_count": null,
      "outputs": [
        {
          "output_type": "execute_result",
          "data": {
            "text/html": [
              "<div>\n",
              "<style scoped>\n",
              "    .dataframe tbody tr th:only-of-type {\n",
              "        vertical-align: middle;\n",
              "    }\n",
              "\n",
              "    .dataframe tbody tr th {\n",
              "        vertical-align: top;\n",
              "    }\n",
              "\n",
              "    .dataframe thead th {\n",
              "        text-align: right;\n",
              "    }\n",
              "</style>\n",
              "<table border=\"1\" class=\"dataframe\">\n",
              "  <thead>\n",
              "    <tr style=\"text-align: right;\">\n",
              "      <th></th>\n",
              "      <th>ap_hi</th>\n",
              "      <th>ap_lo</th>\n",
              "    </tr>\n",
              "  </thead>\n",
              "  <tbody>\n",
              "    <tr>\n",
              "      <th>0</th>\n",
              "      <td>110</td>\n",
              "      <td>80</td>\n",
              "    </tr>\n",
              "    <tr>\n",
              "      <th>1</th>\n",
              "      <td>140</td>\n",
              "      <td>90</td>\n",
              "    </tr>\n",
              "    <tr>\n",
              "      <th>2</th>\n",
              "      <td>130</td>\n",
              "      <td>70</td>\n",
              "    </tr>\n",
              "    <tr>\n",
              "      <th>3</th>\n",
              "      <td>150</td>\n",
              "      <td>100</td>\n",
              "    </tr>\n",
              "    <tr>\n",
              "      <th>4</th>\n",
              "      <td>100</td>\n",
              "      <td>60</td>\n",
              "    </tr>\n",
              "  </tbody>\n",
              "</table>\n",
              "</div>"
            ],
            "text/plain": [
              "   ap_hi  ap_lo\n",
              "0    110     80\n",
              "1    140     90\n",
              "2    130     70\n",
              "3    150    100\n",
              "4    100     60"
            ]
          },
          "metadata": {
            "tags": []
          },
          "execution_count": 22
        }
      ]
    },
    {
      "cell_type": "markdown",
      "metadata": {
        "id": "-sLWRAkFJY_k"
      },
      "source": [
        "#Exploring Binary and Categorical Data"
      ]
    },
    {
      "cell_type": "code",
      "metadata": {
        "id": "dL5BgGL166uP",
        "colab": {
          "base_uri": "https://localhost:8080/"
        },
        "outputId": "873fab38-503a-40a9-8915-9055969754b0"
      },
      "source": [
        "print(100 * dfn1 / dfn1.values.sum())"
      ],
      "execution_count": null,
      "outputs": [
        {
          "output_type": "stream",
          "text": [
            "       height    weight\n",
            "0    0.099376  0.036674\n",
            "1    0.092277  0.050279\n",
            "2    0.097601  0.037857\n",
            "3    0.099967  0.048505\n",
            "4    0.092277  0.033125\n",
            "..        ...       ...\n",
            "704  0.097010  0.036083\n",
            "705  0.095827  0.042590\n",
            "706  0.095235  0.055012\n",
            "707  0.092869  0.040224\n",
            "708  0.093461  0.038449\n",
            "\n",
            "[709 rows x 2 columns]\n"
          ],
          "name": "stdout"
        }
      ]
    },
    {
      "cell_type": "code",
      "metadata": {
        "id": "3G3oP2sJ-VZm",
        "colab": {
          "base_uri": "https://localhost:8080/",
          "height": 297
        },
        "outputId": "ccb85840-894e-42bd-c6d6-c3b82765bbd7"
      },
      "source": [
        "ax = dfn1.transpose().plot.bar(figsize=(4, 4), legend=False)\r\n",
        "ax.set_xlabel('physic')\r\n",
        "ax.set_ylabel('Count')\r\n",
        "\r\n",
        "plt.tight_layout()\r\n",
        "plt.show()"
      ],
      "execution_count": null,
      "outputs": [
        {
          "output_type": "display_data",
          "data": {
            "image/png": "[encoded data removed]",
            "text/plain": [
              "<Figure size 288x288 with 1 Axes>"
            ]
          },
          "metadata": {
            "tags": [],
            "needs_background": "light"
          }
        }
      ]
    },
    {
      "cell_type": "markdown",
      "metadata": {
        "id": "DXqsp1ZAJleq"
      },
      "source": [
        "#Correlation\r\n",
        "correlation matrix"
      ]
    },
    {
      "cell_type": "code",
      "metadata": {
        "id": "F49Pn3Cc-51I",
        "colab": {
          "base_uri": "https://localhost:8080/"
        },
        "outputId": "1311a752-1d1b-46fc-eb26-e2955c85bf0f"
      },
      "source": [
        "data=df.corr()\r\n",
        "print(data)"
      ],
      "execution_count": null,
      "outputs": [
        {
          "output_type": "stream",
          "text": [
            "                   Id       age    gender  ...      alco    active    cardio\n",
            "Id           1.000000 -0.026904 -0.071267  ...  0.021380  0.016990 -0.036547\n",
            "age         -0.026904  1.000000  0.001430  ... -0.074528 -0.007464  0.236791\n",
            "gender      -0.071267  0.001430  1.000000  ...  0.175032 -0.032629 -0.038012\n",
            "height      -0.043734 -0.106335  0.469850  ...  0.120415 -0.064885  0.010605\n",
            "weight       0.034737 -0.016563  0.136394  ...  0.058611 -0.047885  0.144348\n",
            "ap_hi       -0.021004  0.179657  0.052524  ...  0.022570 -0.061009  0.470492\n",
            "ap_lo        0.050002  0.008331 -0.005155  ... -0.020349 -0.026069  0.148786\n",
            "cholesterol -0.012113  0.167047  0.012778  ...  0.004204  0.029864  0.263982\n",
            "gluc         0.042034  0.060398  0.045508  ... -0.012010  0.041643  0.112270\n",
            "smoke       -0.006029 -0.053418  0.392524  ...  0.398841  0.033214 -0.043377\n",
            "alco         0.021380 -0.074528  0.175032  ...  1.000000 -0.003719 -0.024014\n",
            "active       0.016990 -0.007464 -0.032629  ... -0.003719  1.000000 -0.042987\n",
            "cardio      -0.036547  0.236791 -0.038012  ... -0.024014 -0.042987  1.000000\n",
            "\n",
            "[13 rows x 13 columns]\n"
          ],
          "name": "stdout"
        }
      ]
    },
    {
      "cell_type": "markdown",
      "metadata": {
        "id": "3-uMPPfwJ3xM"
      },
      "source": [
        "The seaborn package provides a convenient implementation for heatmaps."
      ]
    },
    {
      "cell_type": "code",
      "metadata": {
        "id": "KOLtSBYnCvsS",
        "colab": {
          "base_uri": "https://localhost:8080/",
          "height": 297
        },
        "outputId": "931a94b2-6cf8-453d-e3db-c5dcfe870b5e"
      },
      "source": [
        "fig, ax = plt.subplots(figsize=(5, 4))\r\n",
        "ax = sns.heatmap(df.corr(), vmin=-1, vmax=1, \r\n",
        "                 cmap=sns.diverging_palette(20, 220, as_cmap=True),\r\n",
        "                 ax=ax)\r\n",
        "\r\n",
        "plt.tight_layout()\r\n",
        "plt.show()"
      ],
      "execution_count": null,
      "outputs": [
        {
          "output_type": "display_data",
          "data": {
            "image/png": "[encoded data removed]",
            "text/plain": [
              "<Figure size 360x288 with 2 Axes>"
            ]
          },
          "metadata": {
            "tags": [],
            "needs_background": "light"
          }
        }
      ]
    },
    {
      "cell_type": "markdown",
      "metadata": {
        "id": "yFIL4n8VJ_oI"
      },
      "source": [
        "The above heatmap works when you have color. For the greyscale images, as used in the book, we need to visualize the direction as well. The following code shows the strength of the correlation using ellipses."
      ]
    },
    {
      "cell_type": "code",
      "metadata": {
        "id": "GqlJFZbyEFlT",
        "colab": {
          "base_uri": "https://localhost:8080/",
          "height": 297
        },
        "outputId": "f230b372-476e-4b25-b762-17f4ff2e70af"
      },
      "source": [
        "from matplotlib.collections import EllipseCollection\r\n",
        "from matplotlib.colors import Normalize\r\n",
        "\r\n",
        "def plot_corr_ellipses(data, figsize=None, **kwargs):\r\n",
        "  \r\n",
        "    M = np.array(data)\r\n",
        "    if not M.ndim == 2:\r\n",
        "        raise ValueError('data must be a 2D array')\r\n",
        "    fig, ax = plt.subplots(1, 1, figsize=figsize, subplot_kw={'aspect':'equal'})\r\n",
        "    ax.set_xlim(-0.5, M.shape[1] - 0.5)\r\n",
        "    ax.set_ylim(-0.5, M.shape[0] - 0.5)\r\n",
        "    ax.invert_yaxis()\r\n",
        "\r\n",
        "    # xy locations of each ellipse center\r\n",
        "    xy = np.indices(M.shape)[::-1].reshape(2, -1).T\r\n",
        "\r\n",
        "    # set the relative sizes of the major/minor axes according to the strength of\r\n",
        "    # the positive/negative correlation\r\n",
        "    w = np.ones_like(M).ravel() + 0.01\r\n",
        "    h = 1 - np.abs(M).ravel() - 0.01\r\n",
        "    a = 45 * np.sign(M).ravel()\r\n",
        "\r\n",
        "    ec = EllipseCollection(widths=w, heights=h, angles=a, units='x', offsets=xy,\r\n",
        "                           norm=Normalize(vmin=-1, vmax=1),\r\n",
        "                           transOffset=ax.transData, array=M.ravel(), **kwargs)\r\n",
        "    ax.add_collection(ec)\r\n",
        "\r\n",
        "    # if data is a DataFrame, use the row/column names as tick labels\r\n",
        "    if isinstance(data, pd.DataFrame):\r\n",
        "        ax.set_xticks(np.arange(M.shape[1]))\r\n",
        "        ax.set_xticklabels(data.columns, rotation=90)\r\n",
        "        ax.set_yticks(np.arange(M.shape[0]))\r\n",
        "        ax.set_yticklabels(data.index)\r\n",
        "\r\n",
        "    return ec\r\n",
        "\r\n",
        "m = plot_corr_ellipses(df.corr(), figsize=(5, 4), cmap='bwr_r')\r\n",
        "cb = fig.colorbar(m)\r\n",
        "cb.set_label('Correlation coefficient')\r\n",
        "\r\n",
        "plt.tight_layout()\r\n",
        "plt.show()"
      ],
      "execution_count": null,
      "outputs": [
        {
          "output_type": "display_data",
          "data": {
            "image/png": "[encoded data removed]",
            "text/plain": [
              "<Figure size 360x288 with 1 Axes>"
            ]
          },
          "metadata": {
            "tags": [],
            "needs_background": "light"
          }
        }
      ]
    },
    {
      "cell_type": "markdown",
      "metadata": {
        "id": "e3b_mjcRKEdw"
      },
      "source": [
        "#Scatterplots\r\n",
        "Simple scatterplots are supported by pandas. Specifying the marker as $\\u25EF$ uses an open circle for each point."
      ]
    },
    {
      "cell_type": "code",
      "metadata": {
        "id": "0ce_YPDvESpf",
        "colab": {
          "base_uri": "https://localhost:8080/",
          "height": 297
        },
        "outputId": "24a34adf-621c-483b-977d-c5c21554ebb1"
      },
      "source": [
        "ax = dfn1.plot.scatter(x='weight', y='height', figsize=(4, 4), marker='$\\u25EF$')\r\n",
        "ax.set_xlabel('weight')\r\n",
        "ax.set_ylabel('height')\r\n",
        "ax.axhline(0, color='grey', lw=1)\r\n",
        "ax.axvline(0, color='grey', lw=1)\r\n",
        "\r\n",
        "plt.tight_layout()\r\n",
        "plt.show()"
      ],
      "execution_count": null,
      "outputs": [
        {
          "output_type": "display_data",
          "data": {
            "image/png": "[encoded data removed]",
            "text/plain": [
              "<Figure size 288x288 with 1 Axes>"
            ]
          },
          "metadata": {
            "tags": [],
            "needs_background": "light"
          }
        }
      ]
    },
    {
      "cell_type": "code",
      "metadata": {
        "id": "ZtzzF286FCVD",
        "colab": {
          "base_uri": "https://localhost:8080/",
          "height": 297
        },
        "outputId": "0ab41ac2-9423-4bc3-868b-49c6ac897284"
      },
      "source": [
        "ax = dfn2.plot.scatter(x='ap_hi', y='ap_lo', figsize=(4, 4), marker='$\\u25EF$', alpha=0.5)\r\n",
        "ax.set_xlabel('ap_hi')\r\n",
        "ax.set_ylabel('ap_lo')\r\n",
        "ax.axhline(0, color='grey', lw=1)\r\n",
        "print(ax.axvline(0, color='grey', lw=1))"
      ],
      "execution_count": null,
      "outputs": [
        {
          "output_type": "stream",
          "text": [
            "Line2D(_line1)\n"
          ],
          "name": "stdout"
        },
        {
          "output_type": "display_data",
          "data": {
            "image/png": "[encoded data removed]",
            "text/plain": [
              "<Figure size 288x288 with 1 Axes>"
            ]
          },
          "metadata": {
            "tags": [],
            "needs_background": "light"
          }
        }
      ]
    },
    {
      "cell_type": "markdown",
      "metadata": {
        "id": "pXyM9HX6KPzY"
      },
      "source": [
        "#Hexagonal binning and Contours\r\n",
        "Plotting numeric versus numeric data\r\n",
        "If the number of data points gets large, scatter plots will no longer be meaningful. Here methods that visualize densities are more useful. The hexbin method for pandas data frames is one powerful approach."
      ]
    },
    {
      "cell_type": "code",
      "metadata": {
        "id": "uw26LnYtF05C",
        "colab": {
          "base_uri": "https://localhost:8080/",
          "height": 297
        },
        "outputId": "fc44a27b-c4a8-4053-d7ee-5d4cbf4a0e78"
      },
      "source": [
        "ax = dfn1.plot.hexbin(x='weight', y='height',\r\n",
        "                         gridsize=30, sharex=False, figsize=(5, 4))\r\n",
        "ax.set_xlabel('weight')\r\n",
        "ax.set_ylabel('height')\r\n",
        "\r\n",
        "plt.tight_layout()\r\n",
        "plt.show()"
      ],
      "execution_count": null,
      "outputs": [
        {
          "output_type": "display_data",
          "data": {
            "image/png": "[encoded data removed]",
            "text/plain": [
              "<Figure size 360x288 with 2 Axes>"
            ]
          },
          "metadata": {
            "tags": [],
            "needs_background": "light"
          }
        }
      ]
    },
    {
      "cell_type": "code",
      "metadata": {
        "id": "wBafGLp8HGll",
        "colab": {
          "base_uri": "https://localhost:8080/",
          "height": 297
        },
        "outputId": "19eb6ea7-4b96-4133-914f-06f17c042523"
      },
      "source": [
        "fig, ax = plt.subplots(figsize=(4, 4))\r\n",
        "sns.kdeplot(data=dfn2, x='ap_hi', y='ap_lo', ax=ax)\r\n",
        "ax.set_xlabel('ap_hi')\r\n",
        "ax.set_ylabel('ap_lo')\r\n",
        "\r\n",
        "plt.tight_layout()\r\n",
        "plt.show()"
      ],
      "execution_count": null,
      "outputs": [
        {
          "output_type": "display_data",
          "data": {
            "image/png": "[encoded data removed]",
            "text/plain": [
              "<Figure size 288x288 with 1 Axes>"
            ]
          },
          "metadata": {
            "tags": [],
            "needs_background": "light"
          }
        }
      ]
    },
    {
      "cell_type": "markdown",
      "metadata": {
        "id": "ebvxVQ4pLMO5"
      },
      "source": [
        "#Two Categorical Variables\r\n",
        "Load the AirQuality dataset"
      ]
    },
    {
      "cell_type": "code",
      "metadata": {
        "id": "2TX0qpuxQSPr",
        "colab": {
          "base_uri": "https://localhost:8080/",
          "height": 195
        },
        "outputId": "2ba009a6-3b0a-4fa7-a8e0-08ee505da4f5"
      },
      "source": [
        "Location = \"/content/gdrive/MyDrive/airquality.csv\"\r\n",
        "df1 = pd.read_csv(Location)\r\n",
        "df1.head()"
      ],
      "execution_count": null,
      "outputs": [
        {
          "output_type": "execute_result",
          "data": {
            "text/html": [
              "<div>\n",
              "<style scoped>\n",
              "    .dataframe tbody tr th:only-of-type {\n",
              "        vertical-align: middle;\n",
              "    }\n",
              "\n",
              "    .dataframe tbody tr th {\n",
              "        vertical-align: top;\n",
              "    }\n",
              "\n",
              "    .dataframe thead th {\n",
              "        text-align: right;\n",
              "    }\n",
              "</style>\n",
              "<table border=\"1\" class=\"dataframe\">\n",
              "  <thead>\n",
              "    <tr style=\"text-align: right;\">\n",
              "      <th></th>\n",
              "      <th>Ozone</th>\n",
              "      <th>Solar</th>\n",
              "      <th>Wind</th>\n",
              "      <th>Temp</th>\n",
              "      <th>PM25</th>\n",
              "      <th>PM10</th>\n",
              "      <th>Index</th>\n",
              "      <th>Month</th>\n",
              "      <th>Day</th>\n",
              "    </tr>\n",
              "  </thead>\n",
              "  <tbody>\n",
              "    <tr>\n",
              "      <th>0</th>\n",
              "      <td>41.0</td>\n",
              "      <td>190.0</td>\n",
              "      <td>7.4</td>\n",
              "      <td>67.0</td>\n",
              "      <td>159.0</td>\n",
              "      <td>125.0</td>\n",
              "      <td>2.0</td>\n",
              "      <td>5</td>\n",
              "      <td>1</td>\n",
              "    </tr>\n",
              "    <tr>\n",
              "      <th>1</th>\n",
              "      <td>36.0</td>\n",
              "      <td>118.0</td>\n",
              "      <td>8.0</td>\n",
              "      <td>72.0</td>\n",
              "      <td>55.0</td>\n",
              "      <td>63.0</td>\n",
              "      <td>2.0</td>\n",
              "      <td>5</td>\n",
              "      <td>2</td>\n",
              "    </tr>\n",
              "    <tr>\n",
              "      <th>2</th>\n",
              "      <td>12.0</td>\n",
              "      <td>149.0</td>\n",
              "      <td>12.6</td>\n",
              "      <td>74.0</td>\n",
              "      <td>36.0</td>\n",
              "      <td>116.0</td>\n",
              "      <td>9.0</td>\n",
              "      <td>5</td>\n",
              "      <td>3</td>\n",
              "    </tr>\n",
              "    <tr>\n",
              "      <th>3</th>\n",
              "      <td>18.0</td>\n",
              "      <td>313.0</td>\n",
              "      <td>11.5</td>\n",
              "      <td>62.0</td>\n",
              "      <td>120.0</td>\n",
              "      <td>128.0</td>\n",
              "      <td>9.0</td>\n",
              "      <td>5</td>\n",
              "      <td>4</td>\n",
              "    </tr>\n",
              "    <tr>\n",
              "      <th>4</th>\n",
              "      <td>NaN</td>\n",
              "      <td>NaN</td>\n",
              "      <td>14.3</td>\n",
              "      <td>56.0</td>\n",
              "      <td>134.0</td>\n",
              "      <td>119.0</td>\n",
              "      <td>1.0</td>\n",
              "      <td>5</td>\n",
              "      <td>5</td>\n",
              "    </tr>\n",
              "  </tbody>\n",
              "</table>\n",
              "</div>"
            ],
            "text/plain": [
              "   Ozone  Solar  Wind  Temp   PM25   PM10  Index  Month  Day\n",
              "0   41.0  190.0   7.4  67.0  159.0  125.0    2.0      5    1\n",
              "1   36.0  118.0   8.0  72.0   55.0   63.0    2.0      5    2\n",
              "2   12.0  149.0  12.6  74.0   36.0  116.0    9.0      5    3\n",
              "3   18.0  313.0  11.5  62.0  120.0  128.0    9.0      5    4\n",
              "4    NaN    NaN  14.3  56.0  134.0  119.0    1.0      5    5"
            ]
          },
          "metadata": {
            "tags": []
          },
          "execution_count": 34
        }
      ]
    },
    {
      "cell_type": "code",
      "metadata": {
        "colab": {
          "base_uri": "https://localhost:8080/"
        },
        "id": "gHf5RewTK9Zi",
        "outputId": "391deedd-7456-4343-b628-34f218c54477"
      },
      "source": [
        "crosstab = df1.pivot_table(index='Month', columns='Temp', \r\n",
        "                                aggfunc=lambda x: len(x), margins=True)\r\n",
        "print(crosstab)"
      ],
      "execution_count": 40,
      "outputs": [
        {
          "output_type": "stream",
          "text": [
            "       Day                                ... Wind                               \n",
            "Temp  56.0 57.0 58.0 59.0 61.0 62.0 63.0  ... 91.0 92.0 93.0 94.0 96.0 97.0   All\n",
            "Month                                     ...                                    \n",
            "5      1.0  3.0  2.0  2.0  3.0  2.0  NaN  ...  NaN  NaN  NaN  NaN  NaN  NaN  21.0\n",
            "6      NaN  NaN  NaN  NaN  NaN  NaN  NaN  ...  NaN  1.0  1.0  NaN  NaN  NaN   7.0\n",
            "7      NaN  NaN  NaN  NaN  NaN  NaN  NaN  ...  1.0  2.0  NaN  NaN  NaN  NaN  23.0\n",
            "8      NaN  NaN  NaN  NaN  NaN  NaN  NaN  ...  NaN  1.0  NaN  2.0  1.0  1.0  20.0\n",
            "9      NaN  NaN  NaN  NaN  NaN  NaN  1.0  ...  1.0  NaN  2.0  NaN  NaN  NaN  24.0\n",
            "All    NaN  1.0  1.0  1.0  2.0  2.0  1.0  ...  1.0  2.0  2.0  2.0  NaN  1.0  95.0\n",
            "\n",
            "[6 rows x 287 columns]\n"
          ],
          "name": "stdout"
        }
      ]
    },
    {
      "cell_type": "markdown",
      "metadata": {
        "id": "DFV_pRcQLiBA"
      },
      "source": [
        "#Categorical and Numeric Data\r\n",
        "Pandas boxplots of a column can be grouped by a different column."
      ]
    },
    {
      "cell_type": "code",
      "metadata": {
        "id": "CQ75J94WQxrX",
        "colab": {
          "base_uri": "https://localhost:8080/",
          "height": 422
        },
        "outputId": "199c9a02-dd2c-458a-ff32-3a848f4bfee0"
      },
      "source": [
        "ax = df1.boxplot(by='Month', column='Ozone',\r\n",
        "                           figsize=(5, 5))\r\n",
        "ax.set_xlabel('')\r\n",
        "ax.set_ylabel('ozone_level')\r\n",
        "plt.suptitle('')\r\n",
        "\r\n",
        "plt.tight_layout()\r\n",
        "plt.show()"
      ],
      "execution_count": null,
      "outputs": [
        {
          "output_type": "stream",
          "text": [
            "/usr/local/lib/python3.7/dist-packages/numpy/core/_asarray.py:83: VisibleDeprecationWarning: Creating an ndarray from ragged nested sequences (which is a list-or-tuple of lists-or-tuples-or ndarrays with different lengths or shapes) is deprecated. If you meant to do this, you must specify 'dtype=object' when creating the ndarray\n",
            "  return array(a, dtype, copy=False, order=order)\n"
          ],
          "name": "stderr"
        },
        {
          "output_type": "display_data",
          "data": {
            "image/png": "[encoded data removed]",
            "text/plain": [
              "<Figure size 360x360 with 1 Axes>"
            ]
          },
          "metadata": {
            "tags": [],
            "needs_background": "light"
          }
        }
      ]
    },
    {
      "cell_type": "markdown",
      "metadata": {
        "id": "fFCeaJRoLnsu"
      },
      "source": [
        "Pandas also supports a variation of boxplots called violinplot."
      ]
    },
    {
      "cell_type": "code",
      "metadata": {
        "id": "OmtoIfcPRpNK",
        "colab": {
          "base_uri": "https://localhost:8080/",
          "height": 369
        },
        "outputId": "150ee442-dae0-44f0-8ba7-1b228e28b1c7"
      },
      "source": [
        "fig, ax = plt.subplots(figsize=(5, 5))\r\n",
        "sns.violinplot(data=df1, x='Month', y='Wind',\r\n",
        "               ax=ax, inner='quartile', color='white')\r\n",
        "ax.set_xlabel('')\r\n",
        "ax.set_ylabel('Wind_speed')\r\n",
        "\r\n",
        "plt.tight_layout()\r\n",
        "plt.show()"
      ],
      "execution_count": null,
      "outputs": [
        {
          "output_type": "display_data",
          "data": {
            "image/png": "[encoded data removed]",
            "text/plain": [
              "<Figure size 360x360 with 1 Axes>"
            ]
          },
          "metadata": {
            "tags": [],
            "needs_background": "light"
          }
        }
      ]
    }
  ]
}